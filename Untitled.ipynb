{
 "cells": [
  {
   "cell_type": "code",
   "execution_count": 1,
   "metadata": {},
   "outputs": [
    {
     "data": {
      "text/plain": [
       "1    501570\n",
       "2    327871\n",
       "3     95437\n",
       "4     42866\n",
       "5     34531\n",
       "Name: category, dtype: int64"
      ]
     },
     "execution_count": 1,
     "metadata": {},
     "output_type": "execute_result"
    }
   ],
   "source": [
    "#!/usr/bin/env python3\n",
    "# -*- coding: utf-8 -*-\n",
    "\"\"\"\n",
    "Created on Mon Aug 31 11:32:46 2020\n",
    "\n",
    "@author: kapildarsi\n",
    "\"\"\"\n",
    "\n",
    "import csv\n",
    "\n",
    "import pandas as pd\n",
    "\n",
    "with open('mlchallengeset.tsv','r',encoding='utf8') as fin:\n",
    "    cr = csv.reader(fin, delimiter='\\t')\n",
    "    filecontents = [line for line in cr]\n",
    "    \n",
    "data=pd.DataFrame(filecontents)\n",
    "\n",
    "dataset = data.rename(columns={0: 'category', 1: 'primary_image_url',2: 'all_image_urls', 3: 'attributes',4:'index'})\n",
    "\n",
    "dataset['category'].value_counts()\n",
    "\n"
   ]
  },
  {
   "cell_type": "code",
   "execution_count": 2,
   "metadata": {},
   "outputs": [
    {
     "data": {
      "text/html": [
       "<div>\n",
       "<style scoped>\n",
       "    .dataframe tbody tr th:only-of-type {\n",
       "        vertical-align: middle;\n",
       "    }\n",
       "\n",
       "    .dataframe tbody tr th {\n",
       "        vertical-align: top;\n",
       "    }\n",
       "\n",
       "    .dataframe thead th {\n",
       "        text-align: right;\n",
       "    }\n",
       "</style>\n",
       "<table border=\"1\" class=\"dataframe\">\n",
       "  <thead>\n",
       "    <tr style=\"text-align: right;\">\n",
       "      <th></th>\n",
       "      <th>category</th>\n",
       "      <th>primary_image_url</th>\n",
       "      <th>all_image_urls</th>\n",
       "      <th>attributes</th>\n",
       "      <th>index</th>\n",
       "    </tr>\n",
       "  </thead>\n",
       "  <tbody>\n",
       "    <tr>\n",
       "      <th>0</th>\n",
       "      <td>2</td>\n",
       "      <td>https://i.ebayimg.com/00/s/MTYwMFgxMjAw/z/iYYA...</td>\n",
       "      <td>https://i.ebayimg.com/00/s/MTYwMFgxMjAw/z/iYYA...</td>\n",
       "      <td>(Brand:Shimano,US Shoe Size (Men's):4.5,Modifi...</td>\n",
       "      <td>0</td>\n",
       "    </tr>\n",
       "    <tr>\n",
       "      <th>1</th>\n",
       "      <td>2</td>\n",
       "      <td>https://i.ebayimg.com/00/s/MTA1OFgxMTM0/z/KPIA...</td>\n",
       "      <td>https://i.ebayimg.com/00/s/MTA1OFgxMTM0/z/KPIA...</td>\n",
       "      <td>(Color:Gray/White,Country/Region of Manufactur...</td>\n",
       "      <td>1</td>\n",
       "    </tr>\n",
       "    <tr>\n",
       "      <th>2</th>\n",
       "      <td>2</td>\n",
       "      <td>https://i.ebayimg.com/00/s/MTIwMFgxNjAw/z/flIA...</td>\n",
       "      <td>https://i.ebayimg.com/00/s/MTIwMFgxNjAw/z/flIA...</td>\n",
       "      <td>(Style:Cleats,Color:White Orange,US Shoe Size ...</td>\n",
       "      <td>2</td>\n",
       "    </tr>\n",
       "    <tr>\n",
       "      <th>3</th>\n",
       "      <td>2</td>\n",
       "      <td>http://i.ebayimg.com/00/s/ODAwWDEwNjc=/z/XHcAA...</td>\n",
       "      <td>http://i.ebayimg.com/00/s/ODAwWDEwNjc=/z/XHcAA...</td>\n",
       "      <td>(Width:Medium (D, M),US Size:9,Brand:VANS,Colo...</td>\n",
       "      <td>3</td>\n",
       "    </tr>\n",
       "    <tr>\n",
       "      <th>4</th>\n",
       "      <td>2</td>\n",
       "      <td>https://i.ebayimg.com/00/s/MTA2N1gxNjAw/z/scsA...</td>\n",
       "      <td>https://i.ebayimg.com/00/s/MTA2N1gxNjAw/z/scsA...</td>\n",
       "      <td>(US Shoe Size (Men's):10.5,Material:Enter item...</td>\n",
       "      <td>4</td>\n",
       "    </tr>\n",
       "  </tbody>\n",
       "</table>\n",
       "</div>"
      ],
      "text/plain": [
       "  category                                  primary_image_url  \\\n",
       "0        2  https://i.ebayimg.com/00/s/MTYwMFgxMjAw/z/iYYA...   \n",
       "1        2  https://i.ebayimg.com/00/s/MTA1OFgxMTM0/z/KPIA...   \n",
       "2        2  https://i.ebayimg.com/00/s/MTIwMFgxNjAw/z/flIA...   \n",
       "3        2  http://i.ebayimg.com/00/s/ODAwWDEwNjc=/z/XHcAA...   \n",
       "4        2  https://i.ebayimg.com/00/s/MTA2N1gxNjAw/z/scsA...   \n",
       "\n",
       "                                      all_image_urls  \\\n",
       "0  https://i.ebayimg.com/00/s/MTYwMFgxMjAw/z/iYYA...   \n",
       "1  https://i.ebayimg.com/00/s/MTA1OFgxMTM0/z/KPIA...   \n",
       "2  https://i.ebayimg.com/00/s/MTIwMFgxNjAw/z/flIA...   \n",
       "3  http://i.ebayimg.com/00/s/ODAwWDEwNjc=/z/XHcAA...   \n",
       "4  https://i.ebayimg.com/00/s/MTA2N1gxNjAw/z/scsA...   \n",
       "\n",
       "                                          attributes index  \n",
       "0  (Brand:Shimano,US Shoe Size (Men's):4.5,Modifi...     0  \n",
       "1  (Color:Gray/White,Country/Region of Manufactur...     1  \n",
       "2  (Style:Cleats,Color:White Orange,US Shoe Size ...     2  \n",
       "3  (Width:Medium (D, M),US Size:9,Brand:VANS,Colo...     3  \n",
       "4  (US Shoe Size (Men's):10.5,Material:Enter item...     4  "
      ]
     },
     "execution_count": 2,
     "metadata": {},
     "output_type": "execute_result"
    }
   ],
   "source": [
    "dataset.head()"
   ]
  },
  {
   "cell_type": "code",
   "execution_count": null,
   "metadata": {},
   "outputs": [],
   "source": []
  }
 ],
 "metadata": {
  "kernelspec": {
   "display_name": "Python 3",
   "language": "python",
   "name": "python3"
  },
  "language_info": {
   "codemirror_mode": {
    "name": "ipython",
    "version": 3
   },
   "file_extension": ".py",
   "mimetype": "text/x-python",
   "name": "python",
   "nbconvert_exporter": "python",
   "pygments_lexer": "ipython3",
   "version": "3.7.3"
  }
 },
 "nbformat": 4,
 "nbformat_minor": 2
}
